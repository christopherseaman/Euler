{
 "cells": [
  {
   "cell_type": "markdown",
   "metadata": {},
   "source": [
    "If the numbers 1 to 5 are written out in words: one, two, three, four, five, then there are 3 + 3 + 5 + 4 + 4 = 19 letters used in total.\n",
    "\n",
    "If all the numbers from 1 to 1000 (one thousand) inclusive were written out in words, how many letters would be used?\n",
    "\n",
    "\n",
    "NOTE: Do not count spaces or hyphens. For example, 342 (three hundred and forty-two) contains 23 letters and 115 (one hundred and fifteen) contains 20 letters. The use of \"and\" when writing out numbers is in compliance with British usage."
   ]
  },
  {
   "cell_type": "code",
   "execution_count": 10,
   "metadata": {},
   "outputs": [],
   "source": [
    "# We could do this on a piece of scrap paper but let's code it instead\n",
    "\n",
    "# First set up a few dicts\n",
    "\n",
    "ones = {\n",
    "    0 : '',\n",
    "    1 : 'one',\n",
    "    2 : 'two',\n",
    "    3 : 'three',\n",
    "    4 : 'four',\n",
    "    5 : 'five',\n",
    "    6 : 'six',\n",
    "    7 : 'seven',\n",
    "    8 : 'eight',\n",
    "    9 : 'nine',\n",
    "}\n",
    "\n",
    "hundreds = ones\n",
    "\n",
    "tens = {\n",
    "    0 : '',\n",
    "    \n",
    "    2 : 'twenty',\n",
    "    3 : 'thirty',\n",
    "    4 : 'forty',\n",
    "    5 : 'fifty',\n",
    "    6 : 'sixty',\n",
    "    7 : 'seventy',\n",
    "    8 : 'eighty',\n",
    "    9 : 'ninety',\n",
    "}\n",
    "\n",
    "teens = {\n",
    "    0 : 'ten',\n",
    "    1 : 'eleven',\n",
    "    2 : 'twelve',\n",
    "    3 : 'thirteen',\n",
    "    4 : 'fourteen',\n",
    "    5 : 'fifteen',\n",
    "    6 : 'sixteen',\n",
    "    7 : 'seventeen',\n",
    "    8 : 'eighteen',\n",
    "    9 : 'nineteen'\n",
    "}"
   ]
  },
  {
   "cell_type": "code",
   "execution_count": 27,
   "metadata": {},
   "outputs": [
    {
     "name": "stdout",
     "output_type": "stream",
     "text": [
      "21124\n"
     ]
    }
   ],
   "source": [
    "sum = 0\n",
    "\n",
    "for i in range(10):\n",
    "    for j in range(10):\n",
    "        for k in range(10):\n",
    "            number = ''\n",
    "            if i > 0:\n",
    "                number = hundreds[i] + 'hundred'\n",
    "                if j > 0 or k > 0:\n",
    "                    number += 'and'\n",
    "            if j == 1:\n",
    "                number += teens[k]\n",
    "            elif j > 0:\n",
    "                number += tens[j]\n",
    "                if k > 0:\n",
    "                    number += ones[k]\n",
    "            elif j == 0:\n",
    "                if k > 0:\n",
    "                    number += ones[k]\n",
    "\n",
    "            sum += len(number)\n",
    "#            print(i, j, k, number)\n",
    "\n",
    "sum += len('onethousand')\n",
    "\n",
    "print(sum)"
   ]
  },
  {
   "cell_type": "code",
   "execution_count": null,
   "metadata": {},
   "outputs": [],
   "source": []
  }
 ],
 "metadata": {
  "kernelspec": {
   "display_name": "Python 3",
   "language": "python",
   "name": "python3"
  },
  "language_info": {
   "codemirror_mode": {
    "name": "ipython",
    "version": 3
   },
   "file_extension": ".py",
   "mimetype": "text/x-python",
   "name": "python",
   "nbconvert_exporter": "python",
   "pygments_lexer": "ipython3",
   "version": "3.6.6+"
  }
 },
 "nbformat": 4,
 "nbformat_minor": 4
}
