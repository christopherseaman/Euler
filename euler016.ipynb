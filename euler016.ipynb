{
 "cells": [
  {
   "cell_type": "raw",
   "metadata": {},
   "source": [
    "2^15 = 32768 and the sum of its digits is 3 + 2 + 7 + 6 + 8 = 26.\n",
    "\n",
    "What is the sum of the digits of the number 2^1000?"
   ]
  },
  {
   "cell_type": "code",
   "execution_count": 1,
   "metadata": {},
   "outputs": [
    {
     "name": "stdout",
     "output_type": "stream",
     "text": [
      "32768 5\n",
      "26\n"
     ]
    }
   ],
   "source": [
    "digits = str(2**15)\n",
    "\n",
    "print(digits, len(digits))\n",
    "\n",
    "sum = 0\n",
    "for i in range(len(digits)):\n",
    "\tsum += int(digits[i])\n",
    "\t\n",
    "print(sum)"
   ]
  },
  {
   "cell_type": "code",
   "execution_count": 1,
   "metadata": {},
   "outputs": [
    {
     "name": "stdout",
     "output_type": "stream",
     "text": [
      "10715086071862673209484250490600018105614048117055336074437503883703510511249361224931983788156958581275946729175531468251871452856923140435984577574698574803934567774824230985421074605062371141877954182153046474983581941267398767559165543946077062914571196477686542167660429831652624386837205668069376 302\n",
      "1366\n"
     ]
    }
   ],
   "source": [
    "digits = str(2**1000)\n",
    "\n",
    "print(digits, len(digits))\n",
    "\n",
    "sum = 0\n",
    "for i in range(len(digits)):\n",
    "\tsum += int(digits[i])\n",
    "\t\n",
    "print(sum)"
   ]
  }
 ],
 "metadata": {
  "kernelspec": {
   "display_name": "Python 3",
   "language": "python",
   "name": "python3"
  },
  "language_info": {
   "codemirror_mode": {
    "name": "ipython",
    "version": 3
   },
   "file_extension": ".py",
   "mimetype": "text/x-python",
   "name": "python",
   "nbconvert_exporter": "python",
   "pygments_lexer": "ipython3",
   "version": "3.6.6+"
  }
 },
 "nbformat": 4,
 "nbformat_minor": 2
}
